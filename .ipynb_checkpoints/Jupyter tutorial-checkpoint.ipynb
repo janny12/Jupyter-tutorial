{
 "cells": [
  {
   "cell_type": "markdown",
   "metadata": {},
   "source": [
    "# Návod pre prvý kontakt s tvorbou dokumentov v systéme JUPYTER\n",
    "\n",
    "Dokumenty typu JUPYTER môžeme formálne brať ako dokumenty IPython notebook. Ide o flexibilné dokumenty ktoré prepájajú kód, obrázky, komenty a grafy dokopy. \n",
    "\n",
    "Pre začiatok je dobré poznať základné klávesové skratky, ktorých zoznam sa zobrazí po stlačení **Ctrl + Shift + P**"
   ]
  },
  {
   "cell_type": "markdown",
   "metadata": {},
   "source": [
    "### Práca s markdown\n",
    "\n",
    "Jupyter má v sebe implementovaný jazyk markdown jazyk. Ide o jazyk často využívaný jazyk (20004, John Gruber) na písanie readme súborov, písanie správ, diskusných príspevkov atď. Výhodou je, že sa jednoducho konvertuje do HTML alebo rôznych iných jazykov ako napríklad TEX. Myšlienka Markdown je \"easy-to-read, easy-to-write\"\n",
    "\n",
    "Markdown je prepojenie dvoch vecí: (1) syntax pre formátovanie textu (2) programový prostriedok písaný v Perl, ktorý convertuje text do HTML.\n",
    "\n",
    "V nasledujúcih bunkách sú zobrazené rôzne možnosti formátovania textu. \n",
    "\n"
   ]
  },
  {
   "cell_type": "code",
   "execution_count": 1,
   "metadata": {
    "collapsed": false
   },
   "outputs": [
    {
     "name": "stdout",
     "output_type": "stream",
     "text": [
      "660\n"
     ]
    }
   ],
   "source": [
    "A = 5\n",
    "B= 655\n",
    "C = A+B\n",
    "print (C)"
   ]
  }
 ],
 "metadata": {
  "kernelspec": {
   "display_name": "Python 3",
   "language": "python",
   "name": "python3"
  },
  "language_info": {
   "codemirror_mode": {
    "name": "ipython",
    "version": 3
   },
   "file_extension": ".py",
   "mimetype": "text/x-python",
   "name": "python",
   "nbconvert_exporter": "python",
   "pygments_lexer": "ipython3",
   "version": "3.5.2"
  }
 },
 "nbformat": 4,
 "nbformat_minor": 2
}
