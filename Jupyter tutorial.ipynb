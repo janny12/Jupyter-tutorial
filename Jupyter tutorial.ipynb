{
 "cells": [
  {
   "cell_type": "markdown",
   "metadata": {},
   "source": [
    "# Návod pre prvý kontakt s tvorbou dokumentov v systéme JUPYTER"
   ]
  },
  {
   "cell_type": "markdown",
   "metadata": {},
   "source": [
    "Dokumenty typu JUPYTER môžeme formálne brať ako dokumenty IPython notebook. Ide o flexibilné dokumenty ktoré prepájajú kód, obrázky, komenty a grafy dokopy. Výhodou JUPYTERU "
   ]
  },
  {
   "cell_type": "markdown",
   "metadata": {},
   "source": [
    "### Práca s markdown"
   ]
  },
  {
   "cell_type": "markdown",
   "metadata": {},
   "source": [
    "Jupyter má v sebe implementovaný jazyk markdown jazyk. Ide o jazyk často využívaný jazyk (20004, John Gruber) na písanie readme súborov, písanie správ, diskusných príspevkov atď. Výhodou je, že sa jednoducho konvertuje do HTML alebo rôznych iných jazykov ako napríklad TEX. Myšlienka Markdown je \"easy-to-read, easy-to-write\"\n",
    "\n",
    "Markdown je prepojenie dvoch vecí: (1) syntax pre formátovanie textu (2) programový prostriedok písaný v Perl, ktorý convertuje text do HTML.\n",
    "\n",
    "V nasledujúcih bunkách sú zobrazené rôzne možnosti formátovania textu. "
   ]
  },
  {
   "cell_type": "code",
   "execution_count": null,
   "metadata": {
    "collapsed": true
   },
   "outputs": [],
   "source": []
  }
 ],
 "metadata": {
  "kernelspec": {
   "display_name": "Python 3",
   "language": "python",
   "name": "python3"
  },
  "language_info": {
   "codemirror_mode": {
    "name": "ipython",
    "version": 3
   },
   "file_extension": ".py",
   "mimetype": "text/x-python",
   "name": "python",
   "nbconvert_exporter": "python",
   "pygments_lexer": "ipython3",
   "version": "3.5.2"
  }
 },
 "nbformat": 4,
 "nbformat_minor": 2
}
